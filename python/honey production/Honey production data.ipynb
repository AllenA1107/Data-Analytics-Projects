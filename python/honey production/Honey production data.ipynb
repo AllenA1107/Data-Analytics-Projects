{
 "cells": [
  {
   "cell_type": "markdown",
   "id": "0efa7e94",
   "metadata": {},
   "source": [
    "### Data Visualization on Honey Production dataset using seaborn and matplotlib libraries."
   ]
  },
  {
   "cell_type": "markdown",
   "id": "548eaad9",
   "metadata": {},
   "source": [
    "<span style=\"color:purple\">1. Import required libraries and read the dataset.</span>"
   ]
  },
  {
   "cell_type": "code",
   "execution_count": 36,
   "id": "e395d41d",
   "metadata": {},
   "outputs": [],
   "source": [
    "import numpy as np\n",
    "import pandas as pd\n",
    "import matplotlib.pyplot as plt\n",
    "import seaborn as sns"
   ]
  },
  {
   "cell_type": "code",
   "execution_count": 37,
   "id": "924ab541",
   "metadata": {},
   "outputs": [],
   "source": [
    "df=pd.read_csv(\"honeyproduction.csv\")"
   ]
  },
  {
   "cell_type": "code",
   "execution_count": 38,
   "id": "f8fea9ba",
   "metadata": {},
   "outputs": [
    {
     "data": {
      "text/html": [
       "<div>\n",
       "<style scoped>\n",
       "    .dataframe tbody tr th:only-of-type {\n",
       "        vertical-align: middle;\n",
       "    }\n",
       "\n",
       "    .dataframe tbody tr th {\n",
       "        vertical-align: top;\n",
       "    }\n",
       "\n",
       "    .dataframe thead th {\n",
       "        text-align: right;\n",
       "    }\n",
       "</style>\n",
       "<table border=\"1\" class=\"dataframe\">\n",
       "  <thead>\n",
       "    <tr style=\"text-align: right;\">\n",
       "      <th></th>\n",
       "      <th>state</th>\n",
       "      <th>numcol</th>\n",
       "      <th>yieldpercol</th>\n",
       "      <th>totalprod</th>\n",
       "      <th>stocks</th>\n",
       "      <th>priceperlb</th>\n",
       "      <th>prodvalue</th>\n",
       "      <th>year</th>\n",
       "    </tr>\n",
       "  </thead>\n",
       "  <tbody>\n",
       "    <tr>\n",
       "      <th>0</th>\n",
       "      <td>AL</td>\n",
       "      <td>16000.0</td>\n",
       "      <td>71</td>\n",
       "      <td>1136000.0</td>\n",
       "      <td>159000.0</td>\n",
       "      <td>0.72</td>\n",
       "      <td>818000.0</td>\n",
       "      <td>1998</td>\n",
       "    </tr>\n",
       "    <tr>\n",
       "      <th>1</th>\n",
       "      <td>AZ</td>\n",
       "      <td>55000.0</td>\n",
       "      <td>60</td>\n",
       "      <td>3300000.0</td>\n",
       "      <td>1485000.0</td>\n",
       "      <td>0.64</td>\n",
       "      <td>2112000.0</td>\n",
       "      <td>1998</td>\n",
       "    </tr>\n",
       "    <tr>\n",
       "      <th>2</th>\n",
       "      <td>AR</td>\n",
       "      <td>53000.0</td>\n",
       "      <td>65</td>\n",
       "      <td>3445000.0</td>\n",
       "      <td>1688000.0</td>\n",
       "      <td>0.59</td>\n",
       "      <td>2033000.0</td>\n",
       "      <td>1998</td>\n",
       "    </tr>\n",
       "    <tr>\n",
       "      <th>3</th>\n",
       "      <td>CA</td>\n",
       "      <td>450000.0</td>\n",
       "      <td>83</td>\n",
       "      <td>37350000.0</td>\n",
       "      <td>12326000.0</td>\n",
       "      <td>0.62</td>\n",
       "      <td>23157000.0</td>\n",
       "      <td>1998</td>\n",
       "    </tr>\n",
       "    <tr>\n",
       "      <th>4</th>\n",
       "      <td>CO</td>\n",
       "      <td>27000.0</td>\n",
       "      <td>72</td>\n",
       "      <td>1944000.0</td>\n",
       "      <td>1594000.0</td>\n",
       "      <td>0.70</td>\n",
       "      <td>1361000.0</td>\n",
       "      <td>1998</td>\n",
       "    </tr>\n",
       "    <tr>\n",
       "      <th>...</th>\n",
       "      <td>...</td>\n",
       "      <td>...</td>\n",
       "      <td>...</td>\n",
       "      <td>...</td>\n",
       "      <td>...</td>\n",
       "      <td>...</td>\n",
       "      <td>...</td>\n",
       "      <td>...</td>\n",
       "    </tr>\n",
       "    <tr>\n",
       "      <th>621</th>\n",
       "      <td>VA</td>\n",
       "      <td>4000.0</td>\n",
       "      <td>41</td>\n",
       "      <td>164000.0</td>\n",
       "      <td>23000.0</td>\n",
       "      <td>3.77</td>\n",
       "      <td>618000.0</td>\n",
       "      <td>2012</td>\n",
       "    </tr>\n",
       "    <tr>\n",
       "      <th>622</th>\n",
       "      <td>WA</td>\n",
       "      <td>62000.0</td>\n",
       "      <td>41</td>\n",
       "      <td>2542000.0</td>\n",
       "      <td>1017000.0</td>\n",
       "      <td>2.38</td>\n",
       "      <td>6050000.0</td>\n",
       "      <td>2012</td>\n",
       "    </tr>\n",
       "    <tr>\n",
       "      <th>623</th>\n",
       "      <td>WV</td>\n",
       "      <td>6000.0</td>\n",
       "      <td>48</td>\n",
       "      <td>288000.0</td>\n",
       "      <td>95000.0</td>\n",
       "      <td>2.91</td>\n",
       "      <td>838000.0</td>\n",
       "      <td>2012</td>\n",
       "    </tr>\n",
       "    <tr>\n",
       "      <th>624</th>\n",
       "      <td>WI</td>\n",
       "      <td>60000.0</td>\n",
       "      <td>69</td>\n",
       "      <td>4140000.0</td>\n",
       "      <td>1863000.0</td>\n",
       "      <td>2.05</td>\n",
       "      <td>8487000.0</td>\n",
       "      <td>2012</td>\n",
       "    </tr>\n",
       "    <tr>\n",
       "      <th>625</th>\n",
       "      <td>WY</td>\n",
       "      <td>50000.0</td>\n",
       "      <td>51</td>\n",
       "      <td>2550000.0</td>\n",
       "      <td>459000.0</td>\n",
       "      <td>1.87</td>\n",
       "      <td>4769000.0</td>\n",
       "      <td>2012</td>\n",
       "    </tr>\n",
       "  </tbody>\n",
       "</table>\n",
       "<p>626 rows × 8 columns</p>\n",
       "</div>"
      ],
      "text/plain": [
       "    state    numcol  yieldpercol   totalprod      stocks  priceperlb  \\\n",
       "0      AL   16000.0           71   1136000.0    159000.0        0.72   \n",
       "1      AZ   55000.0           60   3300000.0   1485000.0        0.64   \n",
       "2      AR   53000.0           65   3445000.0   1688000.0        0.59   \n",
       "3      CA  450000.0           83  37350000.0  12326000.0        0.62   \n",
       "4      CO   27000.0           72   1944000.0   1594000.0        0.70   \n",
       "..    ...       ...          ...         ...         ...         ...   \n",
       "621    VA    4000.0           41    164000.0     23000.0        3.77   \n",
       "622    WA   62000.0           41   2542000.0   1017000.0        2.38   \n",
       "623    WV    6000.0           48    288000.0     95000.0        2.91   \n",
       "624    WI   60000.0           69   4140000.0   1863000.0        2.05   \n",
       "625    WY   50000.0           51   2550000.0    459000.0        1.87   \n",
       "\n",
       "      prodvalue  year  \n",
       "0      818000.0  1998  \n",
       "1     2112000.0  1998  \n",
       "2     2033000.0  1998  \n",
       "3    23157000.0  1998  \n",
       "4     1361000.0  1998  \n",
       "..          ...   ...  \n",
       "621    618000.0  2012  \n",
       "622   6050000.0  2012  \n",
       "623    838000.0  2012  \n",
       "624   8487000.0  2012  \n",
       "625   4769000.0  2012  \n",
       "\n",
       "[626 rows x 8 columns]"
      ]
     },
     "execution_count": 38,
     "metadata": {},
     "output_type": "execute_result"
    }
   ],
   "source": [
    "df"
   ]
  },
  {
   "cell_type": "markdown",
   "id": "8280297e",
   "metadata": {},
   "source": [
    "<span style=\"color:purple\">2. Check the first few samples, shape, info of the data and try to familiarize yourself with different features</span>"
   ]
  },
  {
   "cell_type": "code",
   "execution_count": 39,
   "id": "0fe720e5",
   "metadata": {},
   "outputs": [
    {
     "data": {
      "text/html": [
       "<div>\n",
       "<style scoped>\n",
       "    .dataframe tbody tr th:only-of-type {\n",
       "        vertical-align: middle;\n",
       "    }\n",
       "\n",
       "    .dataframe tbody tr th {\n",
       "        vertical-align: top;\n",
       "    }\n",
       "\n",
       "    .dataframe thead th {\n",
       "        text-align: right;\n",
       "    }\n",
       "</style>\n",
       "<table border=\"1\" class=\"dataframe\">\n",
       "  <thead>\n",
       "    <tr style=\"text-align: right;\">\n",
       "      <th></th>\n",
       "      <th>state</th>\n",
       "      <th>numcol</th>\n",
       "      <th>yieldpercol</th>\n",
       "      <th>totalprod</th>\n",
       "      <th>stocks</th>\n",
       "      <th>priceperlb</th>\n",
       "      <th>prodvalue</th>\n",
       "      <th>year</th>\n",
       "    </tr>\n",
       "  </thead>\n",
       "  <tbody>\n",
       "    <tr>\n",
       "      <th>0</th>\n",
       "      <td>AL</td>\n",
       "      <td>16000.0</td>\n",
       "      <td>71</td>\n",
       "      <td>1136000.0</td>\n",
       "      <td>159000.0</td>\n",
       "      <td>0.72</td>\n",
       "      <td>818000.0</td>\n",
       "      <td>1998</td>\n",
       "    </tr>\n",
       "    <tr>\n",
       "      <th>1</th>\n",
       "      <td>AZ</td>\n",
       "      <td>55000.0</td>\n",
       "      <td>60</td>\n",
       "      <td>3300000.0</td>\n",
       "      <td>1485000.0</td>\n",
       "      <td>0.64</td>\n",
       "      <td>2112000.0</td>\n",
       "      <td>1998</td>\n",
       "    </tr>\n",
       "    <tr>\n",
       "      <th>2</th>\n",
       "      <td>AR</td>\n",
       "      <td>53000.0</td>\n",
       "      <td>65</td>\n",
       "      <td>3445000.0</td>\n",
       "      <td>1688000.0</td>\n",
       "      <td>0.59</td>\n",
       "      <td>2033000.0</td>\n",
       "      <td>1998</td>\n",
       "    </tr>\n",
       "    <tr>\n",
       "      <th>3</th>\n",
       "      <td>CA</td>\n",
       "      <td>450000.0</td>\n",
       "      <td>83</td>\n",
       "      <td>37350000.0</td>\n",
       "      <td>12326000.0</td>\n",
       "      <td>0.62</td>\n",
       "      <td>23157000.0</td>\n",
       "      <td>1998</td>\n",
       "    </tr>\n",
       "    <tr>\n",
       "      <th>4</th>\n",
       "      <td>CO</td>\n",
       "      <td>27000.0</td>\n",
       "      <td>72</td>\n",
       "      <td>1944000.0</td>\n",
       "      <td>1594000.0</td>\n",
       "      <td>0.70</td>\n",
       "      <td>1361000.0</td>\n",
       "      <td>1998</td>\n",
       "    </tr>\n",
       "    <tr>\n",
       "      <th>5</th>\n",
       "      <td>FL</td>\n",
       "      <td>230000.0</td>\n",
       "      <td>98</td>\n",
       "      <td>22540000.0</td>\n",
       "      <td>4508000.0</td>\n",
       "      <td>0.64</td>\n",
       "      <td>14426000.0</td>\n",
       "      <td>1998</td>\n",
       "    </tr>\n",
       "    <tr>\n",
       "      <th>6</th>\n",
       "      <td>GA</td>\n",
       "      <td>75000.0</td>\n",
       "      <td>56</td>\n",
       "      <td>4200000.0</td>\n",
       "      <td>307000.0</td>\n",
       "      <td>0.69</td>\n",
       "      <td>2898000.0</td>\n",
       "      <td>1998</td>\n",
       "    </tr>\n",
       "    <tr>\n",
       "      <th>7</th>\n",
       "      <td>HI</td>\n",
       "      <td>8000.0</td>\n",
       "      <td>118</td>\n",
       "      <td>944000.0</td>\n",
       "      <td>66000.0</td>\n",
       "      <td>0.77</td>\n",
       "      <td>727000.0</td>\n",
       "      <td>1998</td>\n",
       "    </tr>\n",
       "    <tr>\n",
       "      <th>8</th>\n",
       "      <td>ID</td>\n",
       "      <td>120000.0</td>\n",
       "      <td>50</td>\n",
       "      <td>6000000.0</td>\n",
       "      <td>2220000.0</td>\n",
       "      <td>0.65</td>\n",
       "      <td>3900000.0</td>\n",
       "      <td>1998</td>\n",
       "    </tr>\n",
       "    <tr>\n",
       "      <th>9</th>\n",
       "      <td>IL</td>\n",
       "      <td>9000.0</td>\n",
       "      <td>71</td>\n",
       "      <td>639000.0</td>\n",
       "      <td>204000.0</td>\n",
       "      <td>1.19</td>\n",
       "      <td>760000.0</td>\n",
       "      <td>1998</td>\n",
       "    </tr>\n",
       "    <tr>\n",
       "      <th>10</th>\n",
       "      <td>IN</td>\n",
       "      <td>9000.0</td>\n",
       "      <td>92</td>\n",
       "      <td>828000.0</td>\n",
       "      <td>489000.0</td>\n",
       "      <td>0.85</td>\n",
       "      <td>704000.0</td>\n",
       "      <td>1998</td>\n",
       "    </tr>\n",
       "    <tr>\n",
       "      <th>11</th>\n",
       "      <td>IA</td>\n",
       "      <td>50000.0</td>\n",
       "      <td>78</td>\n",
       "      <td>3900000.0</td>\n",
       "      <td>2301000.0</td>\n",
       "      <td>0.70</td>\n",
       "      <td>2730000.0</td>\n",
       "      <td>1998</td>\n",
       "    </tr>\n",
       "    <tr>\n",
       "      <th>12</th>\n",
       "      <td>KS</td>\n",
       "      <td>16000.0</td>\n",
       "      <td>46</td>\n",
       "      <td>736000.0</td>\n",
       "      <td>390000.0</td>\n",
       "      <td>0.87</td>\n",
       "      <td>640000.0</td>\n",
       "      <td>1998</td>\n",
       "    </tr>\n",
       "    <tr>\n",
       "      <th>13</th>\n",
       "      <td>KY</td>\n",
       "      <td>3000.0</td>\n",
       "      <td>50</td>\n",
       "      <td>150000.0</td>\n",
       "      <td>51000.0</td>\n",
       "      <td>1.40</td>\n",
       "      <td>210000.0</td>\n",
       "      <td>1998</td>\n",
       "    </tr>\n",
       "    <tr>\n",
       "      <th>14</th>\n",
       "      <td>LA</td>\n",
       "      <td>41000.0</td>\n",
       "      <td>111</td>\n",
       "      <td>4551000.0</td>\n",
       "      <td>865000.0</td>\n",
       "      <td>0.59</td>\n",
       "      <td>2685000.0</td>\n",
       "      <td>1998</td>\n",
       "    </tr>\n",
       "    <tr>\n",
       "      <th>15</th>\n",
       "      <td>ME</td>\n",
       "      <td>10000.0</td>\n",
       "      <td>26</td>\n",
       "      <td>260000.0</td>\n",
       "      <td>117000.0</td>\n",
       "      <td>0.69</td>\n",
       "      <td>179000.0</td>\n",
       "      <td>1998</td>\n",
       "    </tr>\n",
       "    <tr>\n",
       "      <th>16</th>\n",
       "      <td>MD</td>\n",
       "      <td>7000.0</td>\n",
       "      <td>44</td>\n",
       "      <td>308000.0</td>\n",
       "      <td>92000.0</td>\n",
       "      <td>1.10</td>\n",
       "      <td>339000.0</td>\n",
       "      <td>1998</td>\n",
       "    </tr>\n",
       "    <tr>\n",
       "      <th>17</th>\n",
       "      <td>MI</td>\n",
       "      <td>80000.0</td>\n",
       "      <td>85</td>\n",
       "      <td>6800000.0</td>\n",
       "      <td>3672000.0</td>\n",
       "      <td>0.66</td>\n",
       "      <td>4488000.0</td>\n",
       "      <td>1998</td>\n",
       "    </tr>\n",
       "    <tr>\n",
       "      <th>18</th>\n",
       "      <td>MN</td>\n",
       "      <td>140000.0</td>\n",
       "      <td>79</td>\n",
       "      <td>11060000.0</td>\n",
       "      <td>2765000.0</td>\n",
       "      <td>0.65</td>\n",
       "      <td>7189000.0</td>\n",
       "      <td>1998</td>\n",
       "    </tr>\n",
       "    <tr>\n",
       "      <th>19</th>\n",
       "      <td>MS</td>\n",
       "      <td>18000.0</td>\n",
       "      <td>86</td>\n",
       "      <td>1548000.0</td>\n",
       "      <td>898000.0</td>\n",
       "      <td>0.58</td>\n",
       "      <td>898000.0</td>\n",
       "      <td>1998</td>\n",
       "    </tr>\n",
       "    <tr>\n",
       "      <th>20</th>\n",
       "      <td>MO</td>\n",
       "      <td>23000.0</td>\n",
       "      <td>66</td>\n",
       "      <td>1518000.0</td>\n",
       "      <td>455000.0</td>\n",
       "      <td>0.76</td>\n",
       "      <td>1154000.0</td>\n",
       "      <td>1998</td>\n",
       "    </tr>\n",
       "    <tr>\n",
       "      <th>21</th>\n",
       "      <td>MT</td>\n",
       "      <td>115000.0</td>\n",
       "      <td>122</td>\n",
       "      <td>14030000.0</td>\n",
       "      <td>5472000.0</td>\n",
       "      <td>0.64</td>\n",
       "      <td>8979000.0</td>\n",
       "      <td>1998</td>\n",
       "    </tr>\n",
       "    <tr>\n",
       "      <th>22</th>\n",
       "      <td>NE</td>\n",
       "      <td>64000.0</td>\n",
       "      <td>70</td>\n",
       "      <td>4480000.0</td>\n",
       "      <td>2240000.0</td>\n",
       "      <td>0.86</td>\n",
       "      <td>3853000.0</td>\n",
       "      <td>1998</td>\n",
       "    </tr>\n",
       "    <tr>\n",
       "      <th>23</th>\n",
       "      <td>NV</td>\n",
       "      <td>10000.0</td>\n",
       "      <td>46</td>\n",
       "      <td>460000.0</td>\n",
       "      <td>175000.0</td>\n",
       "      <td>1.65</td>\n",
       "      <td>759000.0</td>\n",
       "      <td>1998</td>\n",
       "    </tr>\n",
       "    <tr>\n",
       "      <th>24</th>\n",
       "      <td>NJ</td>\n",
       "      <td>11000.0</td>\n",
       "      <td>49</td>\n",
       "      <td>539000.0</td>\n",
       "      <td>167000.0</td>\n",
       "      <td>0.76</td>\n",
       "      <td>410000.0</td>\n",
       "      <td>1998</td>\n",
       "    </tr>\n",
       "    <tr>\n",
       "      <th>25</th>\n",
       "      <td>NM</td>\n",
       "      <td>14000.0</td>\n",
       "      <td>55</td>\n",
       "      <td>770000.0</td>\n",
       "      <td>470000.0</td>\n",
       "      <td>0.76</td>\n",
       "      <td>585000.0</td>\n",
       "      <td>1998</td>\n",
       "    </tr>\n",
       "    <tr>\n",
       "      <th>26</th>\n",
       "      <td>NY</td>\n",
       "      <td>65000.0</td>\n",
       "      <td>80</td>\n",
       "      <td>5200000.0</td>\n",
       "      <td>2444000.0</td>\n",
       "      <td>0.70</td>\n",
       "      <td>3640000.0</td>\n",
       "      <td>1998</td>\n",
       "    </tr>\n",
       "    <tr>\n",
       "      <th>27</th>\n",
       "      <td>NC</td>\n",
       "      <td>8000.0</td>\n",
       "      <td>59</td>\n",
       "      <td>472000.0</td>\n",
       "      <td>151000.0</td>\n",
       "      <td>1.38</td>\n",
       "      <td>651000.0</td>\n",
       "      <td>1998</td>\n",
       "    </tr>\n",
       "    <tr>\n",
       "      <th>28</th>\n",
       "      <td>ND</td>\n",
       "      <td>230000.0</td>\n",
       "      <td>128</td>\n",
       "      <td>29440000.0</td>\n",
       "      <td>8832000.0</td>\n",
       "      <td>0.63</td>\n",
       "      <td>18547000.0</td>\n",
       "      <td>1998</td>\n",
       "    </tr>\n",
       "    <tr>\n",
       "      <th>29</th>\n",
       "      <td>OH</td>\n",
       "      <td>18000.0</td>\n",
       "      <td>78</td>\n",
       "      <td>1404000.0</td>\n",
       "      <td>702000.0</td>\n",
       "      <td>0.83</td>\n",
       "      <td>1165000.0</td>\n",
       "      <td>1998</td>\n",
       "    </tr>\n",
       "    <tr>\n",
       "      <th>30</th>\n",
       "      <td>OK</td>\n",
       "      <td>4000.0</td>\n",
       "      <td>51</td>\n",
       "      <td>204000.0</td>\n",
       "      <td>63000.0</td>\n",
       "      <td>1.24</td>\n",
       "      <td>253000.0</td>\n",
       "      <td>1998</td>\n",
       "    </tr>\n",
       "    <tr>\n",
       "      <th>31</th>\n",
       "      <td>OR</td>\n",
       "      <td>50000.0</td>\n",
       "      <td>45</td>\n",
       "      <td>2250000.0</td>\n",
       "      <td>1620000.0</td>\n",
       "      <td>0.90</td>\n",
       "      <td>2025000.0</td>\n",
       "      <td>1998</td>\n",
       "    </tr>\n",
       "    <tr>\n",
       "      <th>32</th>\n",
       "      <td>PA</td>\n",
       "      <td>26000.0</td>\n",
       "      <td>66</td>\n",
       "      <td>1716000.0</td>\n",
       "      <td>789000.0</td>\n",
       "      <td>0.80</td>\n",
       "      <td>1373000.0</td>\n",
       "      <td>1998</td>\n",
       "    </tr>\n",
       "    <tr>\n",
       "      <th>33</th>\n",
       "      <td>SD</td>\n",
       "      <td>225000.0</td>\n",
       "      <td>95</td>\n",
       "      <td>21375000.0</td>\n",
       "      <td>10901000.0</td>\n",
       "      <td>0.64</td>\n",
       "      <td>13680000.0</td>\n",
       "      <td>1998</td>\n",
       "    </tr>\n",
       "    <tr>\n",
       "      <th>34</th>\n",
       "      <td>TN</td>\n",
       "      <td>7000.0</td>\n",
       "      <td>64</td>\n",
       "      <td>448000.0</td>\n",
       "      <td>121000.0</td>\n",
       "      <td>1.32</td>\n",
       "      <td>591000.0</td>\n",
       "      <td>1998</td>\n",
       "    </tr>\n",
       "    <tr>\n",
       "      <th>35</th>\n",
       "      <td>TX</td>\n",
       "      <td>91000.0</td>\n",
       "      <td>77</td>\n",
       "      <td>7007000.0</td>\n",
       "      <td>1612000.0</td>\n",
       "      <td>0.62</td>\n",
       "      <td>4344000.0</td>\n",
       "      <td>1998</td>\n",
       "    </tr>\n",
       "    <tr>\n",
       "      <th>36</th>\n",
       "      <td>UT</td>\n",
       "      <td>30000.0</td>\n",
       "      <td>58</td>\n",
       "      <td>1740000.0</td>\n",
       "      <td>557000.0</td>\n",
       "      <td>0.65</td>\n",
       "      <td>1131000.0</td>\n",
       "      <td>1998</td>\n",
       "    </tr>\n",
       "    <tr>\n",
       "      <th>37</th>\n",
       "      <td>VT</td>\n",
       "      <td>6000.0</td>\n",
       "      <td>64</td>\n",
       "      <td>384000.0</td>\n",
       "      <td>207000.0</td>\n",
       "      <td>0.85</td>\n",
       "      <td>326000.0</td>\n",
       "      <td>1998</td>\n",
       "    </tr>\n",
       "    <tr>\n",
       "      <th>38</th>\n",
       "      <td>VA</td>\n",
       "      <td>8000.0</td>\n",
       "      <td>37</td>\n",
       "      <td>296000.0</td>\n",
       "      <td>86000.0</td>\n",
       "      <td>1.33</td>\n",
       "      <td>394000.0</td>\n",
       "      <td>1998</td>\n",
       "    </tr>\n",
       "    <tr>\n",
       "      <th>39</th>\n",
       "      <td>WA</td>\n",
       "      <td>58000.0</td>\n",
       "      <td>51</td>\n",
       "      <td>2958000.0</td>\n",
       "      <td>1361000.0</td>\n",
       "      <td>0.64</td>\n",
       "      <td>1893000.0</td>\n",
       "      <td>1998</td>\n",
       "    </tr>\n",
       "  </tbody>\n",
       "</table>\n",
       "</div>"
      ],
      "text/plain": [
       "   state    numcol  yieldpercol   totalprod      stocks  priceperlb  \\\n",
       "0     AL   16000.0           71   1136000.0    159000.0        0.72   \n",
       "1     AZ   55000.0           60   3300000.0   1485000.0        0.64   \n",
       "2     AR   53000.0           65   3445000.0   1688000.0        0.59   \n",
       "3     CA  450000.0           83  37350000.0  12326000.0        0.62   \n",
       "4     CO   27000.0           72   1944000.0   1594000.0        0.70   \n",
       "5     FL  230000.0           98  22540000.0   4508000.0        0.64   \n",
       "6     GA   75000.0           56   4200000.0    307000.0        0.69   \n",
       "7     HI    8000.0          118    944000.0     66000.0        0.77   \n",
       "8     ID  120000.0           50   6000000.0   2220000.0        0.65   \n",
       "9     IL    9000.0           71    639000.0    204000.0        1.19   \n",
       "10    IN    9000.0           92    828000.0    489000.0        0.85   \n",
       "11    IA   50000.0           78   3900000.0   2301000.0        0.70   \n",
       "12    KS   16000.0           46    736000.0    390000.0        0.87   \n",
       "13    KY    3000.0           50    150000.0     51000.0        1.40   \n",
       "14    LA   41000.0          111   4551000.0    865000.0        0.59   \n",
       "15    ME   10000.0           26    260000.0    117000.0        0.69   \n",
       "16    MD    7000.0           44    308000.0     92000.0        1.10   \n",
       "17    MI   80000.0           85   6800000.0   3672000.0        0.66   \n",
       "18    MN  140000.0           79  11060000.0   2765000.0        0.65   \n",
       "19    MS   18000.0           86   1548000.0    898000.0        0.58   \n",
       "20    MO   23000.0           66   1518000.0    455000.0        0.76   \n",
       "21    MT  115000.0          122  14030000.0   5472000.0        0.64   \n",
       "22    NE   64000.0           70   4480000.0   2240000.0        0.86   \n",
       "23    NV   10000.0           46    460000.0    175000.0        1.65   \n",
       "24    NJ   11000.0           49    539000.0    167000.0        0.76   \n",
       "25    NM   14000.0           55    770000.0    470000.0        0.76   \n",
       "26    NY   65000.0           80   5200000.0   2444000.0        0.70   \n",
       "27    NC    8000.0           59    472000.0    151000.0        1.38   \n",
       "28    ND  230000.0          128  29440000.0   8832000.0        0.63   \n",
       "29    OH   18000.0           78   1404000.0    702000.0        0.83   \n",
       "30    OK    4000.0           51    204000.0     63000.0        1.24   \n",
       "31    OR   50000.0           45   2250000.0   1620000.0        0.90   \n",
       "32    PA   26000.0           66   1716000.0    789000.0        0.80   \n",
       "33    SD  225000.0           95  21375000.0  10901000.0        0.64   \n",
       "34    TN    7000.0           64    448000.0    121000.0        1.32   \n",
       "35    TX   91000.0           77   7007000.0   1612000.0        0.62   \n",
       "36    UT   30000.0           58   1740000.0    557000.0        0.65   \n",
       "37    VT    6000.0           64    384000.0    207000.0        0.85   \n",
       "38    VA    8000.0           37    296000.0     86000.0        1.33   \n",
       "39    WA   58000.0           51   2958000.0   1361000.0        0.64   \n",
       "\n",
       "     prodvalue  year  \n",
       "0     818000.0  1998  \n",
       "1    2112000.0  1998  \n",
       "2    2033000.0  1998  \n",
       "3   23157000.0  1998  \n",
       "4    1361000.0  1998  \n",
       "5   14426000.0  1998  \n",
       "6    2898000.0  1998  \n",
       "7     727000.0  1998  \n",
       "8    3900000.0  1998  \n",
       "9     760000.0  1998  \n",
       "10    704000.0  1998  \n",
       "11   2730000.0  1998  \n",
       "12    640000.0  1998  \n",
       "13    210000.0  1998  \n",
       "14   2685000.0  1998  \n",
       "15    179000.0  1998  \n",
       "16    339000.0  1998  \n",
       "17   4488000.0  1998  \n",
       "18   7189000.0  1998  \n",
       "19    898000.0  1998  \n",
       "20   1154000.0  1998  \n",
       "21   8979000.0  1998  \n",
       "22   3853000.0  1998  \n",
       "23    759000.0  1998  \n",
       "24    410000.0  1998  \n",
       "25    585000.0  1998  \n",
       "26   3640000.0  1998  \n",
       "27    651000.0  1998  \n",
       "28  18547000.0  1998  \n",
       "29   1165000.0  1998  \n",
       "30    253000.0  1998  \n",
       "31   2025000.0  1998  \n",
       "32   1373000.0  1998  \n",
       "33  13680000.0  1998  \n",
       "34    591000.0  1998  \n",
       "35   4344000.0  1998  \n",
       "36   1131000.0  1998  \n",
       "37    326000.0  1998  \n",
       "38    394000.0  1998  \n",
       "39   1893000.0  1998  "
      ]
     },
     "execution_count": 39,
     "metadata": {},
     "output_type": "execute_result"
    }
   ],
   "source": [
    "df.head(40)"
   ]
  },
  {
   "cell_type": "code",
   "execution_count": 40,
   "id": "a1b1c2eb",
   "metadata": {},
   "outputs": [
    {
     "data": {
      "text/plain": [
       "(626, 8)"
      ]
     },
     "execution_count": 40,
     "metadata": {},
     "output_type": "execute_result"
    }
   ],
   "source": [
    "df.shape"
   ]
  },
  {
   "cell_type": "code",
   "execution_count": 41,
   "id": "cbe63f5f",
   "metadata": {},
   "outputs": [
    {
     "name": "stdout",
     "output_type": "stream",
     "text": [
      "<class 'pandas.core.frame.DataFrame'>\n",
      "RangeIndex: 626 entries, 0 to 625\n",
      "Data columns (total 8 columns):\n",
      " #   Column       Non-Null Count  Dtype  \n",
      "---  ------       --------------  -----  \n",
      " 0   state        626 non-null    object \n",
      " 1   numcol       626 non-null    float64\n",
      " 2   yieldpercol  626 non-null    int64  \n",
      " 3   totalprod    626 non-null    float64\n",
      " 4   stocks       626 non-null    float64\n",
      " 5   priceperlb   626 non-null    float64\n",
      " 6   prodvalue    626 non-null    float64\n",
      " 7   year         626 non-null    int64  \n",
      "dtypes: float64(5), int64(2), object(1)\n",
      "memory usage: 39.3+ KB\n"
     ]
    }
   ],
   "source": [
    "df.info()"
   ]
  },
  {
   "cell_type": "markdown",
   "id": "ce97bd86",
   "metadata": {},
   "source": [
    "<span style=\"color:purple\">3. Display the percentage distribution of the data in each year using the pie chart.</span>"
   ]
  },
  {
   "cell_type": "code",
   "execution_count": 42,
   "id": "ba54c204",
   "metadata": {},
   "outputs": [
    {
     "data": {
      "image/png": "[encoded data removed]",
      "text/plain": [
       "<Figure size 640x480 with 1 Axes>"
      ]
     },
     "metadata": {},
     "output_type": "display_data"
    }
   ],
   "source": [
    "df.groupby(by='year')['year'].count().plot(kind='pie',autopct='%.2f');"
   ]
  },
  {
   "cell_type": "markdown",
   "id": "ec6bf6dd",
   "metadata": {},
   "source": [
    "<span style=\"color:purple\">4. Plot and Understand the distribution of the variable \"price per lb\" using displot, and write your findings.</span>\n"
   ]
  },
  {
   "cell_type": "code",
   "execution_count": 43,
   "id": "bb21ad71",
   "metadata": {},
   "outputs": [
    {
     "data": {
      "image/png": "[encoded data removed]",
      "text/plain": [
       "<Figure size 500x500 with 1 Axes>"
      ]
     },
     "metadata": {},
     "output_type": "display_data"
    }
   ],
   "source": [
    "sns.displot(x=df['priceperlb'],kind='hist');"
   ]
  },
  {
   "cell_type": "markdown",
   "id": "8b5791be",
   "metadata": {},
   "source": [
    "* The distribution of variable 'priceperlb' is positively skewed where more data is clustered at the start of distribution \n",
    "* The distribution of variable 'priceperlb' has the highest peakedness at 1.5"
   ]
  },
  {
   "cell_type": "markdown",
   "id": "dfe80f97",
   "metadata": {},
   "source": [
    "<span style=\"color:purple\">5. Plot and understand the relationship between the variables 'numcol' and 'prodvalue' through scatterplot, and write your findings.</span>"
   ]
  },
  {
   "cell_type": "code",
   "execution_count": 44,
   "id": "c313ad56",
   "metadata": {},
   "outputs": [
    {
     "data": {
      "image/png": "[encoded data removed]",
      "text/plain": [
       "<Figure size 640x480 with 1 Axes>"
      ]
     },
     "metadata": {},
     "output_type": "display_data"
    }
   ],
   "source": [
    "plt.scatter(x=df['numcol'],y=df['prodvalue']);\n",
    "plt.title('Scatter plot');\n",
    "plt.xlabel('Numcol');\n",
    "plt.ylabel('Prodvalue');"
   ]
  },
  {
   "cell_type": "markdown",
   "id": "48c90ed7",
   "metadata": {},
   "source": [
    "* Most of the data are clustered between 200000 numcol and prodvalue 2\n",
    "* Whereas the outliers lie above 400000 numcol and prodvalue 5 "
   ]
  },
  {
   "cell_type": "markdown",
   "id": "0425f687",
   "metadata": {},
   "source": [
    "<span style=\"color:purple\">6. Plot and understand the relationship between categorical variable 'year' and a numerical variable 'prodvalue' through boxplot, and write your findings.</span>\n"
   ]
  },
  {
   "cell_type": "code",
   "execution_count": 45,
   "id": "b3eff083",
   "metadata": {},
   "outputs": [
    {
     "data": {
      "application/vnd.plotly.v1+json": {
       "config": {
        "plotlyServerURL": "https://plot.ly"
       },
       "data": [
        {
         "alignmentgroup": "True",
         "hovertemplate": "x=%{x}<br>y=%{y}<extra></extra>",
         "legendgroup": "",
         "marker": {
          "color": "#636efa"
         },
         "name": "",
         "notched": false,
         "offsetgroup": "",
         "orientation": "v",
         "showlegend": false,
         "type": "box",
         "x": [
          1998,
          1998,
          1998,
          1998,
          1998,
          1998,
          1998,
          1998,
          1998,
          1998,
          1998,
          1998,
          1998,
          1998,
          1998,
          1998,
          1998,
          1998,
          1998,
          1998,
          1998,
          1998,
          1998,
          1998,
          1998,
          1998,
          1998,
          1998,
          1998,
          1998,
          1998,
          1998,
          1998,
          1998,
          1998,
          1998,
          1998,
          1998,
          1998,
          1998,
          1998,
          1998,
          1998,
          1999,
          1999,
          1999,
          1999,
          1999,
          1999,
          1999,
          1999,
          1999,
          1999,
          1999,
          1999,
          1999,
          1999,
          1999,
          1999,
          1999,
          1999,
          1999,
          1999,
          1999,
          1999,
          1999,
          1999,
          1999,
          1999,
          1999,
          1999,
          1999,
          1999,
          1999,
          1999,
          1999,
          1999,
          1999,
          1999,
          1999,
          1999,
          1999,
          1999,
          1999,
          1999,
          1999,
          2000,
          2000,
          2000,
          2000,
          2000,
          2000,
          2000,
          2000,
          2000,
          2000,
          2000,
          2000,
          2000,
          2000,
          2000,
          2000,
          2000,
          2000,
          2000,
          2000,
          2000,
          2000,
          2000,
          2000,
          2000,
          2000,
          2000,
          2000,
          2000,
          2000,
          2000,
          2000,
          2000,
          2000,
          2000,
          2000,
          2000,
          2000,
          2000,
          2000,
          2000,
          2000,
          2000,
          2001,
          2001,
          2001,
          2001,
          2001,
          2001,
          2001,
          2001,
          2001,
          2001,
          2001,
          2001,
          2001,
          2001,
          2001,
          2001,
          2001,
          2001,
          2001,
          2001,
          2001,
          2001,
          2001,
          2001,
          2001,
          2001,
          2001,
          2001,
          2001,
          2001,
          2001,
          2001,
          2001,
          2001,
          2001,
          2001,
          2001,
          2001,
          2001,
          2001,
          2001,
          2001,
          2001,
          2001,
          2002,
          2002,
          2002,
          2002,
          2002,
          2002,
          2002,
          2002,
          2002,
          2002,
          2002,
          2002,
          2002,
          2002,
          2002,
          2002,
          2002,
          2002,
          2002,
          2002,
          2002,
          2002,
          2002,
          2002,
          2002,
          2002,
          2002,
          2002,
          2002,
          2002,
          2002,
          2002,
          2002,
          2002,
          2002,
          2002,
          2002,
          2002,
          2002,
          2002,
          2002,
          2002,
          2002,
          2002,
          2003,
          2003,
          2003,
          2003,
          2003,
          2003,
          2003,
          2003,
          2003,
          2003,
          2003,
          2003,
          2003,
          2003,
          2003,
          2003,
          2003,
          2003,
          2003,
          2003,
          2003,
          2003,
          2003,
          2003,
          2003,
          2003,
          2003,
          2003,
          2003,
          2003,
          2003,
          2003,
          2003,
          2003,
          2003,
          2003,
          2003,
          2003,
          2003,
          2003,
          2003,
          2003,
          2003,
          2003,
          2004,
          2004,
          2004,
          2004,
          2004,
          2004,
          2004,
          2004,
          2004,
          2004,
          2004,
          2004,
          2004,
          2004,
          2004,
          2004,
          2004,
          2004,
          2004,
          2004,
          2004,
          2004,
          2004,
          2004,
          2004,
          2004,
          2004,
          2004,
          2004,
          2004,
          2004,
          2004,
          2004,
          2004,
          2004,
          2004,
          2004,
          2004,
          2004,
          2004,
          2004,
          2005,
          2005,
          2005,
          2005,
          2005,
          2005,
          2005,
          2005,
          2005,
          2005,
          2005,
          2005,
          2005,
          2005,
          2005,
          2005,
          2005,
          2005,
          2005,
          2005,
          2005,
          2005,
          2005,
          2005,
          2005,
          2005,
          2005,
          2005,
          2005,
          2005,
          2005,
          2005,
          2005,
          2005,
          2005,
          2005,
          2005,
          2005,
          2005,
          2005,
          2005,
          2006,
          2006,
          2006,
          2006,
          2006,
          2006,
          2006,
          2006,
          2006,
          2006,
          2006,
          2006,
          2006,
          2006,
          2006,
          2006,
          2006,
          2006,
          2006,
          2006,
          2006,
          2006,
          2006,
          2006,
          2006,
          2006,
          2006,
          2006,
          2006,
          2006,
          2006,
          2006,
          2006,
          2006,
          2006,
          2006,
          2006,
          2006,
          2006,
          2006,
          2006,
          2007,
          2007,
          2007,
          2007,
          2007,
          2007,
          2007,
          2007,
          2007,
          2007,
          2007,
          2007,
          2007,
          2007,
          2007,
          2007,
          2007,
          2007,
          2007,
          2007,
          2007,
          2007,
          2007,
          2007,
          2007,
          2007,
          2007,
          2007,
          2007,
          2007,
          2007,
          2007,
          2007,
          2007,
          2007,
          2007,
          2007,
          2007,
          2007,
          2007,
          2007,
          2008,
          2008,
          2008,
          2008,
          2008,
          2008,
          2008,
          2008,
          2008,
          2008,
          2008,
          2008,
          2008,
          2008,
          2008,
          2008,
          2008,
          2008,
          2008,
          2008,
          2008,
          2008,
          2008,
          2008,
          2008,
          2008,
          2008,
          2008,
          2008,
          2008,
          2008,
          2008,
          2008,
          2008,
          2008,
          2008,
          2008,
          2008,
          2008,
          2008,
          2008,
          2009,
          2009,
          2009,
          2009,
          2009,
          2009,
          2009,
          2009,
          2009,
          2009,
          2009,
          2009,
          2009,
          2009,
          2009,
          2009,
          2009,
          2009,
          2009,
          2009,
          2009,
          2009,
          2009,
          2009,
          2009,
          2009,
          2009,
          2009,
          2009,
          2009,
          2009,
          2009,
          2009,
          2009,
          2009,
          2009,
          2009,
          2009,
          2009,
          2009,
          2010,
          2010,
          2010,
          2010,
          2010,
          2010,
          2010,
          2010,
          2010,
          2010,
          2010,
          2010,
          2010,
          2010,
          2010,
          2010,
          2010,
          2010,
          2010,
          2010,
          2010,
          2010,
          2010,
          2010,
          2010,
          2010,
          2010,
          2010,
          2010,
          2010,
          2010,
          2010,
          2010,
          2010,
          2010,
          2010,
          2010,
          2010,
          2010,
          2010,
          2011,
          2011,
          2011,
          2011,
          2011,
          2011,
          2011,
          2011,
          2011,
          2011,
          2011,
          2011,
          2011,
          2011,
          2011,
          2011,
          2011,
          2011,
          2011,
          2011,
          2011,
          2011,
          2011,
          2011,
          2011,
          2011,
          2011,
          2011,
          2011,
          2011,
          2011,
          2011,
          2011,
          2011,
          2011,
          2011,
          2011,
          2011,
          2011,
          2011,
          2012,
          2012,
          2012,
          2012,
          2012,
          2012,
          2012,
          2012,
          2012,
          2012,
          2012,
          2012,
          2012,
          2012,
          2012,
          2012,
          2012,
          2012,
          2012,
          2012,
          2012,
          2012,
          2012,
          2012,
          2012,
          2012,
          2012,
          2012,
          2012,
          2012,
          2012,
          2012,
          2012,
          2012,
          2012,
          2012,
          2012,
          2012,
          2012,
          2012
         ],
         "x0": " ",
         "xaxis": "x",
         "y": [
          818000,
          2112000,
          2033000,
          23157000,
          1361000,
          14426000,
          2898000,
          727000,
          3900000,
          760000,
          704000,
          2730000,
          640000,
          210000,
          2685000,
          179000,
          339000,
          4488000,
          7189000,
          898000,
          1154000,
          8979000,
          3853000,
          759000,
          410000,
          585000,
          3640000,
          651000,
          18547000,
          1165000,
          253000,
          2025000,
          1373000,
          13680000,
          591000,
          4344000,
          1131000,
          326000,
          394000,
          1893000,
          376000,
          5831000,
          1877000,
          647000,
          1999000,
          2453000,
          15345000,
          1395000,
          12326000,
          2122000,
          512000,
          3398000,
          683000,
          729000,
          1690000,
          967000,
          186000,
          2681000,
          256000,
          453000,
          4095000,
          7253000,
          710000,
          1061000,
          5124000,
          2724000,
          624000,
          251000,
          601000,
          3188000,
          671000,
          15797000,
          1066000,
          362000,
          2052000,
          1277000,
          13978000,
          530000,
          5599000,
          796000,
          249000,
          287000,
          1560000,
          255000,
          4080000,
          1625000,
          736000,
          1723000,
          2757000,
          18172000,
          1079000,
          13154000,
          1975000,
          643000,
          2444000,
          571000,
          536000,
          1367000,
          928000,
          259000,
          2102000,
          173000,
          315000,
          3240000,
          7695000,
          845000,
          1035000,
          6438000,
          2567000,
          508000,
          235000,
          691000,
          2552000,
          771000,
          19665000,
          924000,
          309000,
          1616000,
          855000,
          16492000,
          785000,
          4728000,
          590000,
          281000,
          441000,
          1629000,
          461000,
          5141000,
          2140000,
          736000,
          1827000,
          3185000,
          19361000,
          1015000,
          14080000,
          2195000,
          606000,
          3082000,
          720000,
          489000,
          1262000,
          636000,
          440000,
          2862000,
          174000,
          294000,
          3694000,
          7108000,
          999000,
          953000,
          9294000,
          1486000,
          963000,
          318000,
          462000,
          2931000,
          847000,
          18547000,
          1473000,
          269000,
          1433000,
          1363000,
          221000,
          10845000,
          656000,
          4981000,
          568000,
          522000,
          590000,
          1797000,
          646000,
          4450000,
          1902000,
          1218000,
          2586000,
          4990000,
          31020000,
          1858000,
          23324000,
          2938000,
          1057000,
          7809000,
          1058000,
          590000,
          3303000,
          1326000,
          440000,
          5034000,
          546000,
          270000,
          7762000,
          12555000,
          1727000,
          1278000,
          11650000,
          4805000,
          1490000,
          440000,
          532000,
          7350000,
          948000,
          35040000,
          1814000,
          259000,
          2844000,
          2215000,
          588000,
          16295000,
          683000,
          8707000,
          1687000,
          748000,
          578000,
          3239000,
          606000,
          8911000,
          3184000,
          1322000,
          3377000,
          3780000,
          44702000,
          2890000,
          19681000,
          4326000,
          1157000,
          6118000,
          769000,
          465000,
          2681000,
          1286000,
          401000,
          3794000,
          372000,
          162000,
          6782000,
          14342000,
          1869000,
          1270000,
          13781000,
          4595000,
          783000,
          304000,
          295000,
          6561000,
          845000,
          40229000,
          1050000,
          259000,
          2720000,
          1944000,
          529000,
          21522000,
          365000,
          13132000,
          1824000,
          1139000,
          373000,
          4742000,
          711000,
          8376000,
          4454000,
          1472000,
          1954000,
          1984000,
          18428000,
          2484000,
          20492000,
          3704000,
          1221000,
          6426000,
          716000,
          607000,
          2486000,
          1322000,
          549000,
          2710000,
          278000,
          5052000,
          10935000,
          924000,
          892000,
          11642000,
          4584000,
          1371000,
          454000,
          419000,
          5832000,
          695000,
          31941000,
          1420000,
          2744000,
          2300000,
          22801000,
          561000,
          8552000,
          1848000,
          616000,
          559000,
          3457000,
          698000,
          6959000,
          3218000,
          875000,
          1872000,
          2409000,
          25800000,
          1901000,
          11971000,
          2573000,
          1686000,
          2812000,
          1251000,
          604000,
          2981000,
          840000,
          520000,
          2444000,
          345000,
          4155000,
          7992000,
          858000,
          915000,
          7491000,
          2366000,
          1717000,
          461000,
          353000,
          5771000,
          1015000,
          27946000,
          1449000,
          1769000,
          1756000,
          14425000,
          643000,
          5129000,
          1026000,
          612000,
          651000,
          2833000,
          526000,
          6056000,
          1994000,
          958000,
          1775000,
          2164000,
          19167000,
          2808000,
          13770000,
          5594000,
          1125000,
          4055000,
          1412000,
          597000,
          2992000,
          901000,
          613000,
          2430000,
          405000,
          4554000,
          9400000,
          1276000,
          676000,
          9907000,
          3191000,
          1205000,
          369000,
          400000,
          4826000,
          785000,
          23569000,
          1098000,
          2318000,
          1826000,
          9941000,
          708000,
          5109000,
          1274000,
          403000,
          739000,
          3160000,
          509000,
          6666000,
          3249000,
          918000,
          2419000,
          2128000,
          14144000,
          1818000,
          11246000,
          4141000,
          1564000,
          4338000,
          1412000,
          636000,
          2759000,
          661000,
          517000,
          2787000,
          309000,
          5484000,
          9194000,
          1256000,
          721000,
          9088000,
          2271000,
          837000,
          1005000,
          503000,
          4169000,
          1345000,
          29837000,
          1512000,
          2591000,
          1785000,
          13525000,
          905000,
          8266000,
          1329000,
          544000,
          671000,
          2530000,
          602000,
          6149000,
          3440000,
          1129000,
          2016000,
          2835000,
          25520000,
          1835000,
          15642000,
          7015000,
          1431000,
          5256000,
          1160000,
          788000,
          2351000,
          946000,
          381000,
          4189000,
          462000,
          7464000,
          13227000,
          1784000,
          979000,
          12851000,
          3497000,
          412000,
          583000,
          426000,
          5775000,
          1360000,
          48960000,
          1247000,
          3032000,
          1822000,
          28643000,
          892000,
          6604000,
          2110000,
          726000,
          610000,
          3256000,
          557000,
          6960000,
          3259000,
          837000,
          1508000,
          1943000,
          16284000,
          2122000,
          16415000,
          3918000,
          1672000,
          7202000,
          694000,
          582000,
          1747000,
          1049000,
          474000,
          5183000,
          585000,
          6138000,
          11419000,
          1922000,
          1029000,
          14921000,
          3924000,
          831000,
          668000,
          5645000,
          1272000,
          47817000,
          1546000,
          2880000,
          1705000,
          25304000,
          846000,
          7794000,
          1442000,
          492000,
          807000,
          4310000,
          481000,
          5972000,
          2540000,
          1166000,
          2809000,
          2205000,
          42579000,
          2894000,
          21528000,
          4225000,
          2118000,
          4217000,
          1026000,
          959000,
          2540000,
          945000,
          911000,
          4320000,
          420000,
          6877000,
          13094000,
          2258000,
          1030000,
          18356000,
          3405000,
          865000,
          730000,
          5645000,
          1591000,
          69615000,
          2544000,
          3751000,
          2364000,
          23209000,
          1260000,
          10872000,
          1193000,
          806000,
          614000,
          4124000,
          478000,
          6881000,
          1946000,
          1130000,
          1889000,
          2281000,
          29304000,
          3410000,
          18446000,
          4612000,
          2431000,
          5575000,
          1365000,
          873000,
          3038000,
          662000,
          495000,
          4629000,
          238000,
          8572000,
          10367000,
          3167000,
          736000,
          22678000,
          4233000,
          1669000,
          662000,
          5378000,
          2456000,
          54542000,
          2317000,
          3427000,
          2693000,
          28050000,
          902000,
          8053000,
          1570000,
          397000,
          651000,
          5207000,
          545000,
          6787000,
          3251000,
          1067000,
          1811000,
          3119000,
          22407000,
          2484000,
          22728000,
          5777000,
          3113000,
          4799000,
          1516000,
          1199000,
          4898000,
          752000,
          803000,
          6453000,
          325000,
          8447000,
          16080000,
          3759000,
          1039000,
          14703000,
          5394000,
          910000,
          881000,
          5800000,
          1906000,
          63590000,
          2657000,
          4147000,
          2467000,
          31941000,
          1072000,
          9568000,
          1777000,
          574000,
          618000,
          6050000,
          838000,
          8487000,
          4769000
         ],
         "y0": " ",
         "yaxis": "y"
        }
       ],
       "layout": {
        "boxmode": "group",
        "legend": {
         "tracegroupgap": 0
        },
        "margin": {
         "t": 60
        },
        "template": {
         "data": {
          "bar": [
           {
            "error_x": {
             "color": "#2a3f5f"
            },
            "error_y": {
             "color": "#2a3f5f"
            },
            "marker": {
             "line": {
              "color": "#E5ECF6",
              "width": 0.5
             },
             "pattern": {
              "fillmode": "overlay",
              "size": 10,
              "solidity": 0.2
             }
            },
            "type": "bar"
           }
          ],
          "barpolar": [
           {
            "marker": {
             "line": {
              "color": "#E5ECF6",
              "width": 0.5
             },
             "pattern": {
              "fillmode": "overlay",
              "size": 10,
              "solidity": 0.2
             }
            },
            "type": "barpolar"
           }
          ],
          "carpet": [
           {
            "aaxis": {
             "endlinecolor": "#2a3f5f",
             "gridcolor": "white",
             "linecolor": "white",
             "minorgridcolor": "white",
             "startlinecolor": "#2a3f5f"
            },
            "baxis": {
             "endlinecolor": "#2a3f5f",
             "gridcolor": "white",
             "linecolor": "white",
             "minorgridcolor": "white",
             "startlinecolor": "#2a3f5f"
            },
            "type": "carpet"
           }
          ],
          "choropleth": [
           {
            "colorbar": {
             "outlinewidth": 0,
             "ticks": ""
            },
            "type": "choropleth"
           }
          ],
          "contour": [
           {
            "colorbar": {
             "outlinewidth": 0,
             "ticks": ""
            },
            "colorscale": [
             [
              0,
              "#0d0887"
             ],
             [
              0.1111111111111111,
              "#46039f"
             ],
             [
              0.2222222222222222,
              "#7201a8"
             ],
             [
              0.3333333333333333,
              "#9c179e"
             ],
             [
              0.4444444444444444,
              "#bd3786"
             ],
             [
              0.5555555555555556,
              "#d8576b"
             ],
             [
              0.6666666666666666,
              "#ed7953"
             ],
             [
              0.7777777777777778,
              "#fb9f3a"
             ],
             [
              0.8888888888888888,
              "#fdca26"
             ],
             [
              1,
              "#f0f921"
             ]
            ],
            "type": "contour"
           }
          ],
          "contourcarpet": [
           {
            "colorbar": {
             "outlinewidth": 0,
             "ticks": ""
            },
            "type": "contourcarpet"
           }
          ],
          "heatmap": [
           {
            "colorbar": {
             "outlinewidth": 0,
             "ticks": ""
            },
            "colorscale": [
             [
              0,
              "#0d0887"
             ],
             [
              0.1111111111111111,
              "#46039f"
             ],
             [
              0.2222222222222222,
              "#7201a8"
             ],
             [
              0.3333333333333333,
              "#9c179e"
             ],
             [
              0.4444444444444444,
              "#bd3786"
             ],
             [
              0.5555555555555556,
              "#d8576b"
             ],
             [
              0.6666666666666666,
              "#ed7953"
             ],
             [
              0.7777777777777778,
              "#fb9f3a"
             ],
             [
              0.8888888888888888,
              "#fdca26"
             ],
             [
              1,
              "#f0f921"
             ]
            ],
            "type": "heatmap"
           }
          ],
          "heatmapgl": [
           {
            "colorbar": {
             "outlinewidth": 0,
             "ticks": ""
            },
            "colorscale": [
             [
              0,
              "#0d0887"
             ],
             [
              0.1111111111111111,
              "#46039f"
             ],
             [
              0.2222222222222222,
              "#7201a8"
             ],
             [
              0.3333333333333333,
              "#9c179e"
             ],
             [
              0.4444444444444444,
              "#bd3786"
             ],
             [
              0.5555555555555556,
              "#d8576b"
             ],
             [
              0.6666666666666666,
              "#ed7953"
             ],
             [
              0.7777777777777778,
              "#fb9f3a"
             ],
             [
              0.8888888888888888,
              "#fdca26"
             ],
             [
              1,
              "#f0f921"
             ]
            ],
            "type": "heatmapgl"
           }
          ],
          "histogram": [
           {
            "marker": {
             "pattern": {
              "fillmode": "overlay",
              "size": 10,
              "solidity": 0.2
             }
            },
            "type": "histogram"
           }
          ],
          "histogram2d": [
           {
            "colorbar": {
             "outlinewidth": 0,
             "ticks": ""
            },
            "colorscale": [
             [
              0,
              "#0d0887"
             ],
             [
              0.1111111111111111,
              "#46039f"
             ],
             [
              0.2222222222222222,
              "#7201a8"
             ],
             [
              0.3333333333333333,
              "#9c179e"
             ],
             [
              0.4444444444444444,
              "#bd3786"
             ],
             [
              0.5555555555555556,
              "#d8576b"
             ],
             [
              0.6666666666666666,
              "#ed7953"
             ],
             [
              0.7777777777777778,
              "#fb9f3a"
             ],
             [
              0.8888888888888888,
              "#fdca26"
             ],
             [
              1,
              "#f0f921"
             ]
            ],
            "type": "histogram2d"
           }
          ],
          "histogram2dcontour": [
           {
            "colorbar": {
             "outlinewidth": 0,
             "ticks": ""
            },
            "colorscale": [
             [
              0,
              "#0d0887"
             ],
             [
              0.1111111111111111,
              "#46039f"
             ],
             [
              0.2222222222222222,
              "#7201a8"
             ],
             [
              0.3333333333333333,
              "#9c179e"
             ],
             [
              0.4444444444444444,
              "#bd3786"
             ],
             [
              0.5555555555555556,
              "#d8576b"
             ],
             [
              0.6666666666666666,
              "#ed7953"
             ],
             [
              0.7777777777777778,
              "#fb9f3a"
             ],
             [
              0.8888888888888888,
              "#fdca26"
             ],
             [
              1,
              "#f0f921"
             ]
            ],
            "type": "histogram2dcontour"
           }
          ],
          "mesh3d": [
           {
            "colorbar": {
             "outlinewidth": 0,
             "ticks": ""
            },
            "type": "mesh3d"
           }
          ],
          "parcoords": [
           {
            "line": {
             "colorbar": {
              "outlinewidth": 0,
              "ticks": ""
             }
            },
            "type": "parcoords"
           }
          ],
          "pie": [
           {
            "automargin": true,
            "type": "pie"
           }
          ],
          "scatter": [
           {
            "fillpattern": {
             "fillmode": "overlay",
             "size": 10,
             "solidity": 0.2
            },
            "type": "scatter"
           }
          ],
          "scatter3d": [
           {
            "line": {
             "colorbar": {
              "outlinewidth": 0,
              "ticks": ""
             }
            },
            "marker": {
             "colorbar": {
              "outlinewidth": 0,
              "ticks": ""
             }
            },
            "type": "scatter3d"
           }
          ],
          "scattercarpet": [
           {
            "marker": {
             "colorbar": {
              "outlinewidth": 0,
              "ticks": ""
             }
            },
            "type": "scattercarpet"
           }
          ],
          "scattergeo": [
           {
            "marker": {
             "colorbar": {
              "outlinewidth": 0,
              "ticks": ""
             }
            },
            "type": "scattergeo"
           }
          ],
          "scattergl": [
           {
            "marker": {
             "colorbar": {
              "outlinewidth": 0,
              "ticks": ""
             }
            },
            "type": "scattergl"
           }
          ],
          "scattermapbox": [
           {
            "marker": {
             "colorbar": {
              "outlinewidth": 0,
              "ticks": ""
             }
            },
            "type": "scattermapbox"
           }
          ],
          "scatterpolar": [
           {
            "marker": {
             "colorbar": {
              "outlinewidth": 0,
              "ticks": ""
             }
            },
            "type": "scatterpolar"
           }
          ],
          "scatterpolargl": [
           {
            "marker": {
             "colorbar": {
              "outlinewidth": 0,
              "ticks": ""
             }
            },
            "type": "scatterpolargl"
           }
          ],
          "scatterternary": [
           {
            "marker": {
             "colorbar": {
              "outlinewidth": 0,
              "ticks": ""
             }
            },
            "type": "scatterternary"
           }
          ],
          "surface": [
           {
            "colorbar": {
             "outlinewidth": 0,
             "ticks": ""
            },
            "colorscale": [
             [
              0,
              "#0d0887"
             ],
             [
              0.1111111111111111,
              "#46039f"
             ],
             [
              0.2222222222222222,
              "#7201a8"
             ],
             [
              0.3333333333333333,
              "#9c179e"
             ],
             [
              0.4444444444444444,
              "#bd3786"
             ],
             [
              0.5555555555555556,
              "#d8576b"
             ],
             [
              0.6666666666666666,
              "#ed7953"
             ],
             [
              0.7777777777777778,
              "#fb9f3a"
             ],
             [
              0.8888888888888888,
              "#fdca26"
             ],
             [
              1,
              "#f0f921"
             ]
            ],
            "type": "surface"
           }
          ],
          "table": [
           {
            "cells": {
             "fill": {
              "color": "#EBF0F8"
             },
             "line": {
              "color": "white"
             }
            },
            "header": {
             "fill": {
              "color": "#C8D4E3"
             },
             "line": {
              "color": "white"
             }
            },
            "type": "table"
           }
          ]
         },
         "layout": {
          "annotationdefaults": {
           "arrowcolor": "#2a3f5f",
           "arrowhead": 0,
           "arrowwidth": 1
          },
          "autotypenumbers": "strict",
          "coloraxis": {
           "colorbar": {
            "outlinewidth": 0,
            "ticks": ""
           }
          },
          "colorscale": {
           "diverging": [
            [
             0,
             "#8e0152"
            ],
            [
             0.1,
             "#c51b7d"
            ],
            [
             0.2,
             "#de77ae"
            ],
            [
             0.3,
             "#f1b6da"
            ],
            [
             0.4,
             "#fde0ef"
            ],
            [
             0.5,
             "#f7f7f7"
            ],
            [
             0.6,
             "#e6f5d0"
            ],
            [
             0.7,
             "#b8e186"
            ],
            [
             0.8,
             "#7fbc41"
            ],
            [
             0.9,
             "#4d9221"
            ],
            [
             1,
             "#276419"
            ]
           ],
           "sequential": [
            [
             0,
             "#0d0887"
            ],
            [
             0.1111111111111111,
             "#46039f"
            ],
            [
             0.2222222222222222,
             "#7201a8"
            ],
            [
             0.3333333333333333,
             "#9c179e"
            ],
            [
             0.4444444444444444,
             "#bd3786"
            ],
            [
             0.5555555555555556,
             "#d8576b"
            ],
            [
             0.6666666666666666,
             "#ed7953"
            ],
            [
             0.7777777777777778,
             "#fb9f3a"
            ],
            [
             0.8888888888888888,
             "#fdca26"
            ],
            [
             1,
             "#f0f921"
            ]
           ],
           "sequentialminus": [
            [
             0,
             "#0d0887"
            ],
            [
             0.1111111111111111,
             "#46039f"
            ],
            [
             0.2222222222222222,
             "#7201a8"
            ],
            [
             0.3333333333333333,
             "#9c179e"
            ],
            [
             0.4444444444444444,
             "#bd3786"
            ],
            [
             0.5555555555555556,
             "#d8576b"
            ],
            [
             0.6666666666666666,
             "#ed7953"
            ],
            [
             0.7777777777777778,
             "#fb9f3a"
            ],
            [
             0.8888888888888888,
             "#fdca26"
            ],
            [
             1,
             "#f0f921"
            ]
           ]
          },
          "colorway": [
           "#636efa",
           "#EF553B",
           "#00cc96",
           "#ab63fa",
           "#FFA15A",
           "#19d3f3",
           "#FF6692",
           "#B6E880",
           "#FF97FF",
           "#FECB52"
          ],
          "font": {
           "color": "#2a3f5f"
          },
          "geo": {
           "bgcolor": "white",
           "lakecolor": "white",
           "landcolor": "#E5ECF6",
           "showlakes": true,
           "showland": true,
           "subunitcolor": "white"
          },
          "hoverlabel": {
           "align": "left"
          },
          "hovermode": "closest",
          "mapbox": {
           "style": "light"
          },
          "paper_bgcolor": "white",
          "plot_bgcolor": "#E5ECF6",
          "polar": {
           "angularaxis": {
            "gridcolor": "white",
            "linecolor": "white",
            "ticks": ""
           },
           "bgcolor": "#E5ECF6",
           "radialaxis": {
            "gridcolor": "white",
            "linecolor": "white",
            "ticks": ""
           }
          },
          "scene": {
           "xaxis": {
            "backgroundcolor": "#E5ECF6",
            "gridcolor": "white",
            "gridwidth": 2,
            "linecolor": "white",
            "showbackground": true,
            "ticks": "",
            "zerolinecolor": "white"
           },
           "yaxis": {
            "backgroundcolor": "#E5ECF6",
            "gridcolor": "white",
            "gridwidth": 2,
            "linecolor": "white",
            "showbackground": true,
            "ticks": "",
            "zerolinecolor": "white"
           },
           "zaxis": {
            "backgroundcolor": "#E5ECF6",
            "gridcolor": "white",
            "gridwidth": 2,
            "linecolor": "white",
            "showbackground": true,
            "ticks": "",
            "zerolinecolor": "white"
           }
          },
          "shapedefaults": {
           "line": {
            "color": "#2a3f5f"
           }
          },
          "ternary": {
           "aaxis": {
            "gridcolor": "white",
            "linecolor": "white",
            "ticks": ""
           },
           "baxis": {
            "gridcolor": "white",
            "linecolor": "white",
            "ticks": ""
           },
           "bgcolor": "#E5ECF6",
           "caxis": {
            "gridcolor": "white",
            "linecolor": "white",
            "ticks": ""
           }
          },
          "title": {
           "x": 0.05
          },
          "xaxis": {
           "automargin": true,
           "gridcolor": "white",
           "linecolor": "white",
           "ticks": "",
           "title": {
            "standoff": 15
           },
           "zerolinecolor": "white",
           "zerolinewidth": 2
          },
          "yaxis": {
           "automargin": true,
           "gridcolor": "white",
           "linecolor": "white",
           "ticks": "",
           "title": {
            "standoff": 15
           },
           "zerolinecolor": "white",
           "zerolinewidth": 2
          }
         }
        },
        "xaxis": {
         "anchor": "y",
         "domain": [
          0,
          1
         ],
         "title": {
          "text": "x"
         }
        },
        "yaxis": {
         "anchor": "x",
         "domain": [
          0,
          1
         ],
         "title": {
          "text": "y"
         }
        }
       }
      },
      "text/html": [
       "<div>                            <div id=\"827348e6-151e-4046-9956-c801b7af956f\" class=\"plotly-graph-div\" style=\"height:525px; width:100%;\"></div>            <script type=\"text/javascript\">                require([\"plotly\"], function(Plotly) {                    window.PLOTLYENV=window.PLOTLYENV || {};                                    if (document.getElementById(\"827348e6-151e-4046-9956-c801b7af956f\")) {                    Plotly.newPlot(                        \"827348e6-151e-4046-9956-c801b7af956f\",                        [{\"alignmentgroup\":\"True\",\"hovertemplate\":\"x=%{x}<br>y=%{y}<extra></extra>\",\"legendgroup\":\"\",\"marker\":{\"color\":\"#636efa\"},\"name\":\"\",\"notched\":false,\"offsetgroup\":\"\",\"orientation\":\"v\",\"showlegend\":false,\"x\":[1998,1998,1998,1998,1998,1998,1998,1998,1998,1998,1998,1998,1998,1998,1998,1998,1998,1998,1998,1998,1998,1998,1998,1998,1998,1998,1998,1998,1998,1998,1998,1998,1998,1998,1998,1998,1998,1998,1998,1998,1998,1998,1998,1999,1999,1999,1999,1999,1999,1999,1999,1999,1999,1999,1999,1999,1999,1999,1999,1999,1999,1999,1999,1999,1999,1999,1999,1999,1999,1999,1999,1999,1999,1999,1999,1999,1999,1999,1999,1999,1999,1999,1999,1999,1999,1999,2000,2000,2000,2000,2000,2000,2000,2000,2000,2000,2000,2000,2000,2000,2000,2000,2000,2000,2000,2000,2000,2000,2000,2000,2000,2000,2000,2000,2000,2000,2000,2000,2000,2000,2000,2000,2000,2000,2000,2000,2000,2000,2000,2001,2001,2001,2001,2001,2001,2001,2001,2001,2001,2001,2001,2001,2001,2001,2001,2001,2001,2001,2001,2001,2001,2001,2001,2001,2001,2001,2001,2001,2001,2001,2001,2001,2001,2001,2001,2001,2001,2001,2001,2001,2001,2001,2001,2002,2002,2002,2002,2002,2002,2002,2002,2002,2002,2002,2002,2002,2002,2002,2002,2002,2002,2002,2002,2002,2002,2002,2002,2002,2002,2002,2002,2002,2002,2002,2002,2002,2002,2002,2002,2002,2002,2002,2002,2002,2002,2002,2002,2003,2003,2003,2003,2003,2003,2003,2003,2003,2003,2003,2003,2003,2003,2003,2003,2003,2003,2003,2003,2003,2003,2003,2003,2003,2003,2003,2003,2003,2003,2003,2003,2003,2003,2003,2003,2003,2003,2003,2003,2003,2003,2003,2003,2004,2004,2004,2004,2004,2004,2004,2004,2004,2004,2004,2004,2004,2004,2004,2004,2004,2004,2004,2004,2004,2004,2004,2004,2004,2004,2004,2004,2004,2004,2004,2004,2004,2004,2004,2004,2004,2004,2004,2004,2004,2005,2005,2005,2005,2005,2005,2005,2005,2005,2005,2005,2005,2005,2005,2005,2005,2005,2005,2005,2005,2005,2005,2005,2005,2005,2005,2005,2005,2005,2005,2005,2005,2005,2005,2005,2005,2005,2005,2005,2005,2005,2006,2006,2006,2006,2006,2006,2006,2006,2006,2006,2006,2006,2006,2006,2006,2006,2006,2006,2006,2006,2006,2006,2006,2006,2006,2006,2006,2006,2006,2006,2006,2006,2006,2006,2006,2006,2006,2006,2006,2006,2006,2007,2007,2007,2007,2007,2007,2007,2007,2007,2007,2007,2007,2007,2007,2007,2007,2007,2007,2007,2007,2007,2007,2007,2007,2007,2007,2007,2007,2007,2007,2007,2007,2007,2007,2007,2007,2007,2007,2007,2007,2007,2008,2008,2008,2008,2008,2008,2008,2008,2008,2008,2008,2008,2008,2008,2008,2008,2008,2008,2008,2008,2008,2008,2008,2008,2008,2008,2008,2008,2008,2008,2008,2008,2008,2008,2008,2008,2008,2008,2008,2008,2008,2009,2009,2009,2009,2009,2009,2009,2009,2009,2009,2009,2009,2009,2009,2009,2009,2009,2009,2009,2009,2009,2009,2009,2009,2009,2009,2009,2009,2009,2009,2009,2009,2009,2009,2009,2009,2009,2009,2009,2009,2010,2010,2010,2010,2010,2010,2010,2010,2010,2010,2010,2010,2010,2010,2010,2010,2010,2010,2010,2010,2010,2010,2010,2010,2010,2010,2010,2010,2010,2010,2010,2010,2010,2010,2010,2010,2010,2010,2010,2010,2011,2011,2011,2011,2011,2011,2011,2011,2011,2011,2011,2011,2011,2011,2011,2011,2011,2011,2011,2011,2011,2011,2011,2011,2011,2011,2011,2011,2011,2011,2011,2011,2011,2011,2011,2011,2011,2011,2011,2011,2012,2012,2012,2012,2012,2012,2012,2012,2012,2012,2012,2012,2012,2012,2012,2012,2012,2012,2012,2012,2012,2012,2012,2012,2012,2012,2012,2012,2012,2012,2012,2012,2012,2012,2012,2012,2012,2012,2012,2012],\"x0\":\" \",\"xaxis\":\"x\",\"y\":[818000.0,2112000.0,2033000.0,23157000.0,1361000.0,14426000.0,2898000.0,727000.0,3900000.0,760000.0,704000.0,2730000.0,640000.0,210000.0,2685000.0,179000.0,339000.0,4488000.0,7189000.0,898000.0,1154000.0,8979000.0,3853000.0,759000.0,410000.0,585000.0,3640000.0,651000.0,18547000.0,1165000.0,253000.0,2025000.0,1373000.0,13680000.0,591000.0,4344000.0,1131000.0,326000.0,394000.0,1893000.0,376000.0,5831000.0,1877000.0,647000.0,1999000.0,2453000.0,15345000.0,1395000.0,12326000.0,2122000.0,512000.0,3398000.0,683000.0,729000.0,1690000.0,967000.0,186000.0,2681000.0,256000.0,453000.0,4095000.0,7253000.0,710000.0,1061000.0,5124000.0,2724000.0,624000.0,251000.0,601000.0,3188000.0,671000.0,15797000.0,1066000.0,362000.0,2052000.0,1277000.0,13978000.0,530000.0,5599000.0,796000.0,249000.0,287000.0,1560000.0,255000.0,4080000.0,1625000.0,736000.0,1723000.0,2757000.0,18172000.0,1079000.0,13154000.0,1975000.0,643000.0,2444000.0,571000.0,536000.0,1367000.0,928000.0,259000.0,2102000.0,173000.0,315000.0,3240000.0,7695000.0,845000.0,1035000.0,6438000.0,2567000.0,508000.0,235000.0,691000.0,2552000.0,771000.0,19665000.0,924000.0,309000.0,1616000.0,855000.0,16492000.0,785000.0,4728000.0,590000.0,281000.0,441000.0,1629000.0,461000.0,5141000.0,2140000.0,736000.0,1827000.0,3185000.0,19361000.0,1015000.0,14080000.0,2195000.0,606000.0,3082000.0,720000.0,489000.0,1262000.0,636000.0,440000.0,2862000.0,174000.0,294000.0,3694000.0,7108000.0,999000.0,953000.0,9294000.0,1486000.0,963000.0,318000.0,462000.0,2931000.0,847000.0,18547000.0,1473000.0,269000.0,1433000.0,1363000.0,221000.0,10845000.0,656000.0,4981000.0,568000.0,522000.0,590000.0,1797000.0,646000.0,4450000.0,1902000.0,1218000.0,2586000.0,4990000.0,31020000.0,1858000.0,23324000.0,2938000.0,1057000.0,7809000.0,1058000.0,590000.0,3303000.0,1326000.0,440000.0,5034000.0,546000.0,270000.0,7762000.0,12555000.0,1727000.0,1278000.0,11650000.0,4805000.0,1490000.0,440000.0,532000.0,7350000.0,948000.0,35040000.0,1814000.0,259000.0,2844000.0,2215000.0,588000.0,16295000.0,683000.0,8707000.0,1687000.0,748000.0,578000.0,3239000.0,606000.0,8911000.0,3184000.0,1322000.0,3377000.0,3780000.0,44702000.0,2890000.0,19681000.0,4326000.0,1157000.0,6118000.0,769000.0,465000.0,2681000.0,1286000.0,401000.0,3794000.0,372000.0,162000.0,6782000.0,14342000.0,1869000.0,1270000.0,13781000.0,4595000.0,783000.0,304000.0,295000.0,6561000.0,845000.0,40229000.0,1050000.0,259000.0,2720000.0,1944000.0,529000.0,21522000.0,365000.0,13132000.0,1824000.0,1139000.0,373000.0,4742000.0,711000.0,8376000.0,4454000.0,1472000.0,1954000.0,1984000.0,18428000.0,2484000.0,20492000.0,3704000.0,1221000.0,6426000.0,716000.0,607000.0,2486000.0,1322000.0,549000.0,2710000.0,278000.0,5052000.0,10935000.0,924000.0,892000.0,11642000.0,4584000.0,1371000.0,454000.0,419000.0,5832000.0,695000.0,31941000.0,1420000.0,2744000.0,2300000.0,22801000.0,561000.0,8552000.0,1848000.0,616000.0,559000.0,3457000.0,698000.0,6959000.0,3218000.0,875000.0,1872000.0,2409000.0,25800000.0,1901000.0,11971000.0,2573000.0,1686000.0,2812000.0,1251000.0,604000.0,2981000.0,840000.0,520000.0,2444000.0,345000.0,4155000.0,7992000.0,858000.0,915000.0,7491000.0,2366000.0,1717000.0,461000.0,353000.0,5771000.0,1015000.0,27946000.0,1449000.0,1769000.0,1756000.0,14425000.0,643000.0,5129000.0,1026000.0,612000.0,651000.0,2833000.0,526000.0,6056000.0,1994000.0,958000.0,1775000.0,2164000.0,19167000.0,2808000.0,13770000.0,5594000.0,1125000.0,4055000.0,1412000.0,597000.0,2992000.0,901000.0,613000.0,2430000.0,405000.0,4554000.0,9400000.0,1276000.0,676000.0,9907000.0,3191000.0,1205000.0,369000.0,400000.0,4826000.0,785000.0,23569000.0,1098000.0,2318000.0,1826000.0,9941000.0,708000.0,5109000.0,1274000.0,403000.0,739000.0,3160000.0,509000.0,6666000.0,3249000.0,918000.0,2419000.0,2128000.0,14144000.0,1818000.0,11246000.0,4141000.0,1564000.0,4338000.0,1412000.0,636000.0,2759000.0,661000.0,517000.0,2787000.0,309000.0,5484000.0,9194000.0,1256000.0,721000.0,9088000.0,2271000.0,837000.0,1005000.0,503000.0,4169000.0,1345000.0,29837000.0,1512000.0,2591000.0,1785000.0,13525000.0,905000.0,8266000.0,1329000.0,544000.0,671000.0,2530000.0,602000.0,6149000.0,3440000.0,1129000.0,2016000.0,2835000.0,25520000.0,1835000.0,15642000.0,7015000.0,1431000.0,5256000.0,1160000.0,788000.0,2351000.0,946000.0,381000.0,4189000.0,462000.0,7464000.0,13227000.0,1784000.0,979000.0,12851000.0,3497000.0,412000.0,583000.0,426000.0,5775000.0,1360000.0,48960000.0,1247000.0,3032000.0,1822000.0,28643000.0,892000.0,6604000.0,2110000.0,726000.0,610000.0,3256000.0,557000.0,6960000.0,3259000.0,837000.0,1508000.0,1943000.0,16284000.0,2122000.0,16415000.0,3918000.0,1672000.0,7202000.0,694000.0,582000.0,1747000.0,1049000.0,474000.0,5183000.0,585000.0,6138000.0,11419000.0,1922000.0,1029000.0,14921000.0,3924000.0,831000.0,668000.0,5645000.0,1272000.0,47817000.0,1546000.0,2880000.0,1705000.0,25304000.0,846000.0,7794000.0,1442000.0,492000.0,807000.0,4310000.0,481000.0,5972000.0,2540000.0,1166000.0,2809000.0,2205000.0,42579000.0,2894000.0,21528000.0,4225000.0,2118000.0,4217000.0,1026000.0,959000.0,2540000.0,945000.0,911000.0,4320000.0,420000.0,6877000.0,13094000.0,2258000.0,1030000.0,18356000.0,3405000.0,865000.0,730000.0,5645000.0,1591000.0,69615000.0,2544000.0,3751000.0,2364000.0,23209000.0,1260000.0,10872000.0,1193000.0,806000.0,614000.0,4124000.0,478000.0,6881000.0,1946000.0,1130000.0,1889000.0,2281000.0,29304000.0,3410000.0,18446000.0,4612000.0,2431000.0,5575000.0,1365000.0,873000.0,3038000.0,662000.0,495000.0,4629000.0,238000.0,8572000.0,10367000.0,3167000.0,736000.0,22678000.0,4233000.0,1669000.0,662000.0,5378000.0,2456000.0,54542000.0,2317000.0,3427000.0,2693000.0,28050000.0,902000.0,8053000.0,1570000.0,397000.0,651000.0,5207000.0,545000.0,6787000.0,3251000.0,1067000.0,1811000.0,3119000.0,22407000.0,2484000.0,22728000.0,5777000.0,3113000.0,4799000.0,1516000.0,1199000.0,4898000.0,752000.0,803000.0,6453000.0,325000.0,8447000.0,16080000.0,3759000.0,1039000.0,14703000.0,5394000.0,910000.0,881000.0,5800000.0,1906000.0,63590000.0,2657000.0,4147000.0,2467000.0,31941000.0,1072000.0,9568000.0,1777000.0,574000.0,618000.0,6050000.0,838000.0,8487000.0,4769000.0],\"y0\":\" \",\"yaxis\":\"y\",\"type\":\"box\"}],                        {\"template\":{\"data\":{\"histogram2dcontour\":[{\"type\":\"histogram2dcontour\",\"colorbar\":{\"outlinewidth\":0,\"ticks\":\"\"},\"colorscale\":[[0.0,\"#0d0887\"],[0.1111111111111111,\"#46039f\"],[0.2222222222222222,\"#7201a8\"],[0.3333333333333333,\"#9c179e\"],[0.4444444444444444,\"#bd3786\"],[0.5555555555555556,\"#d8576b\"],[0.6666666666666666,\"#ed7953\"],[0.7777777777777778,\"#fb9f3a\"],[0.8888888888888888,\"#fdca26\"],[1.0,\"#f0f921\"]]}],\"choropleth\":[{\"type\":\"choropleth\",\"colorbar\":{\"outlinewidth\":0,\"ticks\":\"\"}}],\"histogram2d\":[{\"type\":\"histogram2d\",\"colorbar\":{\"outlinewidth\":0,\"ticks\":\"\"},\"colorscale\":[[0.0,\"#0d0887\"],[0.1111111111111111,\"#46039f\"],[0.2222222222222222,\"#7201a8\"],[0.3333333333333333,\"#9c179e\"],[0.4444444444444444,\"#bd3786\"],[0.5555555555555556,\"#d8576b\"],[0.6666666666666666,\"#ed7953\"],[0.7777777777777778,\"#fb9f3a\"],[0.8888888888888888,\"#fdca26\"],[1.0,\"#f0f921\"]]}],\"heatmap\":[{\"type\":\"heatmap\",\"colorbar\":{\"outlinewidth\":0,\"ticks\":\"\"},\"colorscale\":[[0.0,\"#0d0887\"],[0.1111111111111111,\"#46039f\"],[0.2222222222222222,\"#7201a8\"],[0.3333333333333333,\"#9c179e\"],[0.4444444444444444,\"#bd3786\"],[0.5555555555555556,\"#d8576b\"],[0.6666666666666666,\"#ed7953\"],[0.7777777777777778,\"#fb9f3a\"],[0.8888888888888888,\"#fdca26\"],[1.0,\"#f0f921\"]]}],\"heatmapgl\":[{\"type\":\"heatmapgl\",\"colorbar\":{\"outlinewidth\":0,\"ticks\":\"\"},\"colorscale\":[[0.0,\"#0d0887\"],[0.1111111111111111,\"#46039f\"],[0.2222222222222222,\"#7201a8\"],[0.3333333333333333,\"#9c179e\"],[0.4444444444444444,\"#bd3786\"],[0.5555555555555556,\"#d8576b\"],[0.6666666666666666,\"#ed7953\"],[0.7777777777777778,\"#fb9f3a\"],[0.8888888888888888,\"#fdca26\"],[1.0,\"#f0f921\"]]}],\"contourcarpet\":[{\"type\":\"contourcarpet\",\"colorbar\":{\"outlinewidth\":0,\"ticks\":\"\"}}],\"contour\":[{\"type\":\"contour\",\"colorbar\":{\"outlinewidth\":0,\"ticks\":\"\"},\"colorscale\":[[0.0,\"#0d0887\"],[0.1111111111111111,\"#46039f\"],[0.2222222222222222,\"#7201a8\"],[0.3333333333333333,\"#9c179e\"],[0.4444444444444444,\"#bd3786\"],[0.5555555555555556,\"#d8576b\"],[0.6666666666666666,\"#ed7953\"],[0.7777777777777778,\"#fb9f3a\"],[0.8888888888888888,\"#fdca26\"],[1.0,\"#f0f921\"]]}],\"surface\":[{\"type\":\"surface\",\"colorbar\":{\"outlinewidth\":0,\"ticks\":\"\"},\"colorscale\":[[0.0,\"#0d0887\"],[0.1111111111111111,\"#46039f\"],[0.2222222222222222,\"#7201a8\"],[0.3333333333333333,\"#9c179e\"],[0.4444444444444444,\"#bd3786\"],[0.5555555555555556,\"#d8576b\"],[0.6666666666666666,\"#ed7953\"],[0.7777777777777778,\"#fb9f3a\"],[0.8888888888888888,\"#fdca26\"],[1.0,\"#f0f921\"]]}],\"mesh3d\":[{\"type\":\"mesh3d\",\"colorbar\":{\"outlinewidth\":0,\"ticks\":\"\"}}],\"scatter\":[{\"fillpattern\":{\"fillmode\":\"overlay\",\"size\":10,\"solidity\":0.2},\"type\":\"scatter\"}],\"parcoords\":[{\"type\":\"parcoords\",\"line\":{\"colorbar\":{\"outlinewidth\":0,\"ticks\":\"\"}}}],\"scatterpolargl\":[{\"type\":\"scatterpolargl\",\"marker\":{\"colorbar\":{\"outlinewidth\":0,\"ticks\":\"\"}}}],\"bar\":[{\"error_x\":{\"color\":\"#2a3f5f\"},\"error_y\":{\"color\":\"#2a3f5f\"},\"marker\":{\"line\":{\"color\":\"#E5ECF6\",\"width\":0.5},\"pattern\":{\"fillmode\":\"overlay\",\"size\":10,\"solidity\":0.2}},\"type\":\"bar\"}],\"scattergeo\":[{\"type\":\"scattergeo\",\"marker\":{\"colorbar\":{\"outlinewidth\":0,\"ticks\":\"\"}}}],\"scatterpolar\":[{\"type\":\"scatterpolar\",\"marker\":{\"colorbar\":{\"outlinewidth\":0,\"ticks\":\"\"}}}],\"histogram\":[{\"marker\":{\"pattern\":{\"fillmode\":\"overlay\",\"size\":10,\"solidity\":0.2}},\"type\":\"histogram\"}],\"scattergl\":[{\"type\":\"scattergl\",\"marker\":{\"colorbar\":{\"outlinewidth\":0,\"ticks\":\"\"}}}],\"scatter3d\":[{\"type\":\"scatter3d\",\"line\":{\"colorbar\":{\"outlinewidth\":0,\"ticks\":\"\"}},\"marker\":{\"colorbar\":{\"outlinewidth\":0,\"ticks\":\"\"}}}],\"scattermapbox\":[{\"type\":\"scattermapbox\",\"marker\":{\"colorbar\":{\"outlinewidth\":0,\"ticks\":\"\"}}}],\"scatterternary\":[{\"type\":\"scatterternary\",\"marker\":{\"colorbar\":{\"outlinewidth\":0,\"ticks\":\"\"}}}],\"scattercarpet\":[{\"type\":\"scattercarpet\",\"marker\":{\"colorbar\":{\"outlinewidth\":0,\"ticks\":\"\"}}}],\"carpet\":[{\"aaxis\":{\"endlinecolor\":\"#2a3f5f\",\"gridcolor\":\"white\",\"linecolor\":\"white\",\"minorgridcolor\":\"white\",\"startlinecolor\":\"#2a3f5f\"},\"baxis\":{\"endlinecolor\":\"#2a3f5f\",\"gridcolor\":\"white\",\"linecolor\":\"white\",\"minorgridcolor\":\"white\",\"startlinecolor\":\"#2a3f5f\"},\"type\":\"carpet\"}],\"table\":[{\"cells\":{\"fill\":{\"color\":\"#EBF0F8\"},\"line\":{\"color\":\"white\"}},\"header\":{\"fill\":{\"color\":\"#C8D4E3\"},\"line\":{\"color\":\"white\"}},\"type\":\"table\"}],\"barpolar\":[{\"marker\":{\"line\":{\"color\":\"#E5ECF6\",\"width\":0.5},\"pattern\":{\"fillmode\":\"overlay\",\"size\":10,\"solidity\":0.2}},\"type\":\"barpolar\"}],\"pie\":[{\"automargin\":true,\"type\":\"pie\"}]},\"layout\":{\"autotypenumbers\":\"strict\",\"colorway\":[\"#636efa\",\"#EF553B\",\"#00cc96\",\"#ab63fa\",\"#FFA15A\",\"#19d3f3\",\"#FF6692\",\"#B6E880\",\"#FF97FF\",\"#FECB52\"],\"font\":{\"color\":\"#2a3f5f\"},\"hovermode\":\"closest\",\"hoverlabel\":{\"align\":\"left\"},\"paper_bgcolor\":\"white\",\"plot_bgcolor\":\"#E5ECF6\",\"polar\":{\"bgcolor\":\"#E5ECF6\",\"angularaxis\":{\"gridcolor\":\"white\",\"linecolor\":\"white\",\"ticks\":\"\"},\"radialaxis\":{\"gridcolor\":\"white\",\"linecolor\":\"white\",\"ticks\":\"\"}},\"ternary\":{\"bgcolor\":\"#E5ECF6\",\"aaxis\":{\"gridcolor\":\"white\",\"linecolor\":\"white\",\"ticks\":\"\"},\"baxis\":{\"gridcolor\":\"white\",\"linecolor\":\"white\",\"ticks\":\"\"},\"caxis\":{\"gridcolor\":\"white\",\"linecolor\":\"white\",\"ticks\":\"\"}},\"coloraxis\":{\"colorbar\":{\"outlinewidth\":0,\"ticks\":\"\"}},\"colorscale\":{\"sequential\":[[0.0,\"#0d0887\"],[0.1111111111111111,\"#46039f\"],[0.2222222222222222,\"#7201a8\"],[0.3333333333333333,\"#9c179e\"],[0.4444444444444444,\"#bd3786\"],[0.5555555555555556,\"#d8576b\"],[0.6666666666666666,\"#ed7953\"],[0.7777777777777778,\"#fb9f3a\"],[0.8888888888888888,\"#fdca26\"],[1.0,\"#f0f921\"]],\"sequentialminus\":[[0.0,\"#0d0887\"],[0.1111111111111111,\"#46039f\"],[0.2222222222222222,\"#7201a8\"],[0.3333333333333333,\"#9c179e\"],[0.4444444444444444,\"#bd3786\"],[0.5555555555555556,\"#d8576b\"],[0.6666666666666666,\"#ed7953\"],[0.7777777777777778,\"#fb9f3a\"],[0.8888888888888888,\"#fdca26\"],[1.0,\"#f0f921\"]],\"diverging\":[[0,\"#8e0152\"],[0.1,\"#c51b7d\"],[0.2,\"#de77ae\"],[0.3,\"#f1b6da\"],[0.4,\"#fde0ef\"],[0.5,\"#f7f7f7\"],[0.6,\"#e6f5d0\"],[0.7,\"#b8e186\"],[0.8,\"#7fbc41\"],[0.9,\"#4d9221\"],[1,\"#276419\"]]},\"xaxis\":{\"gridcolor\":\"white\",\"linecolor\":\"white\",\"ticks\":\"\",\"title\":{\"standoff\":15},\"zerolinecolor\":\"white\",\"automargin\":true,\"zerolinewidth\":2},\"yaxis\":{\"gridcolor\":\"white\",\"linecolor\":\"white\",\"ticks\":\"\",\"title\":{\"standoff\":15},\"zerolinecolor\":\"white\",\"automargin\":true,\"zerolinewidth\":2},\"scene\":{\"xaxis\":{\"backgroundcolor\":\"#E5ECF6\",\"gridcolor\":\"white\",\"linecolor\":\"white\",\"showbackground\":true,\"ticks\":\"\",\"zerolinecolor\":\"white\",\"gridwidth\":2},\"yaxis\":{\"backgroundcolor\":\"#E5ECF6\",\"gridcolor\":\"white\",\"linecolor\":\"white\",\"showbackground\":true,\"ticks\":\"\",\"zerolinecolor\":\"white\",\"gridwidth\":2},\"zaxis\":{\"backgroundcolor\":\"#E5ECF6\",\"gridcolor\":\"white\",\"linecolor\":\"white\",\"showbackground\":true,\"ticks\":\"\",\"zerolinecolor\":\"white\",\"gridwidth\":2}},\"shapedefaults\":{\"line\":{\"color\":\"#2a3f5f\"}},\"annotationdefaults\":{\"arrowcolor\":\"#2a3f5f\",\"arrowhead\":0,\"arrowwidth\":1},\"geo\":{\"bgcolor\":\"white\",\"landcolor\":\"#E5ECF6\",\"subunitcolor\":\"white\",\"showland\":true,\"showlakes\":true,\"lakecolor\":\"white\"},\"title\":{\"x\":0.05},\"mapbox\":{\"style\":\"light\"}}},\"xaxis\":{\"anchor\":\"y\",\"domain\":[0.0,1.0],\"title\":{\"text\":\"x\"}},\"yaxis\":{\"anchor\":\"x\",\"domain\":[0.0,1.0],\"title\":{\"text\":\"y\"}},\"legend\":{\"tracegroupgap\":0},\"margin\":{\"t\":60},\"boxmode\":\"group\"},                        {\"responsive\": true}                    ).then(function(){\n",
       "                            \n",
       "var gd = document.getElementById('827348e6-151e-4046-9956-c801b7af956f');\n",
       "var x = new MutationObserver(function (mutations, observer) {{\n",
       "        var display = window.getComputedStyle(gd).display;\n",
       "        if (!display || display === 'none') {{\n",
       "            console.log([gd, 'removed!']);\n",
       "            Plotly.purge(gd);\n",
       "            observer.disconnect();\n",
       "        }}\n",
       "}});\n",
       "\n",
       "// Listen for the removal of the full notebook cells\n",
       "var notebookContainer = gd.closest('#notebook-container');\n",
       "if (notebookContainer) {{\n",
       "    x.observe(notebookContainer, {childList: true});\n",
       "}}\n",
       "\n",
       "// Listen for the clearing of the current output cell\n",
       "var outputEl = gd.closest('.output');\n",
       "if (outputEl) {{\n",
       "    x.observe(outputEl, {childList: true});\n",
       "}}\n",
       "\n",
       "                        })                };                });            </script>        </div>"
      ]
     },
     "metadata": {},
     "output_type": "display_data"
    }
   ],
   "source": [
    "import plotly.express as px\n",
    "px.box(x=df['year'],y=df['prodvalue'])"
   ]
  },
  {
   "cell_type": "markdown",
   "id": "05cd8bf5",
   "metadata": {},
   "source": [
    "* Every year has been affected by the extreme values and has outliers \n",
    "* The Even years does have less outliers ccomparing to the odd years. "
   ]
  },
  {
   "cell_type": "markdown",
   "id": "d024387f",
   "metadata": {},
   "source": [
    "<span style=\"color:purple\">7. Visualize and understand the relationship between the multiple pairs of variables throughout different years using pairplot and add your inferences. (use columns 'numcol', 'yield percol', 'total prod', 'prodvalue','year')</span>"
   ]
  },
  {
   "cell_type": "code",
   "execution_count": 46,
   "id": "8bb93dda",
   "metadata": {
    "scrolled": true
   },
   "outputs": [
    {
     "data": {
      "image/png": "[encoded data removed]",
      "text/plain": [
       "<Figure size 1085.12x1000 with 20 Axes>"
      ]
     },
     "metadata": {},
     "output_type": "display_data"
    }
   ],
   "source": [
    "sns.pairplot(df[['numcol', 'yieldpercol', 'totalprod', 'prodvalue','year']],hue='year');"
   ]
  },
  {
   "cell_type": "markdown",
   "id": "52fa5f57",
   "metadata": {},
   "source": [
    "* The variables numcol,yieldpercol,totalprod and prodvalue are positively skewed comparing to the years\n",
    "* The variables numcol,yieldpercol,totalprod and prodvalue are leptokertic.\n",
    "* The variables numcol,prodvalue and totalprod does have linear relationship."
   ]
  },
  {
   "cell_type": "markdown",
   "id": "d3dea3d7",
   "metadata": {},
   "source": [
    "<span style=\"color:purple\">8. Display the correlation values using a plot and add your inferences. (use columns 'numcol', 'yield percol','total prod', 'stocks', 'price per lb', 'prodvalue')</span>\n"
   ]
  },
  {
   "cell_type": "code",
   "execution_count": 47,
   "id": "7d65eeaf",
   "metadata": {},
   "outputs": [
    {
     "data": {
      "image/png": "[encoded data removed]",
      "text/plain": [
       "<Figure size 700x300 with 2 Axes>"
      ]
     },
     "metadata": {},
     "output_type": "display_data"
    }
   ],
   "source": [
    "plt.figure(figsize=(7,3))\n",
    "sns.heatmap(df[['numcol', 'yieldpercol','totalprod', 'stocks', 'priceperlb', 'prodvalue']].corr(),annot=True,cbar=True);"
   ]
  },
  {
   "cell_type": "markdown",
   "id": "2e27027f",
   "metadata": {},
   "source": [
    "* The variable priceperlb is negatively correlated to other variables \n",
    "so they are inversely proportional to each other\n",
    "* The variables numcol and totalprod has high correlation 95% and variables prodvalue,numcol and total prod have high correlation of 91%"
   ]
  },
  {
   "cell_type": "code",
   "execution_count": null,
   "id": "dcc82edc",
   "metadata": {},
   "outputs": [],
   "source": []
  }
 ],
 "metadata": {
  "kernelspec": {
   "display_name": "Python 3 (ipykernel)",
   "language": "python",
   "name": "python3"
  },
  "language_info": {
   "codemirror_mode": {
    "name": "ipython",
    "version": 3
   },
   "file_extension": ".py",
   "mimetype": "text/x-python",
   "name": "python",
   "nbconvert_exporter": "python",
   "pygments_lexer": "ipython3",
   "version": "3.11.2"
  }
 },
 "nbformat": 4,
 "nbformat_minor": 5
}
